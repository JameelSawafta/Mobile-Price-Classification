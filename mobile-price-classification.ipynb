{
 "cells": [
  {
   "cell_type": "markdown",
   "id": "6c978209",
   "metadata": {
    "_cell_guid": "5e62e309-5d41-4c8f-bf08-744cfde506e3",
    "_uuid": "f40431aa-6505-4b30-91ea-16d31857169d",
    "papermill": {
     "duration": 0.012222,
     "end_time": "2023-04-30T12:27:22.951969",
     "exception": false,
     "start_time": "2023-04-30T12:27:22.939747",
     "status": "completed"
    },
    "tags": []
   },
   "source": [
    "# Mobile Price Classification"
   ]
  },
  {
   "cell_type": "markdown",
   "id": "8fa2ff89",
   "metadata": {
    "_cell_guid": "2ac67cd6-1152-49b9-ace8-f7339950b410",
    "_uuid": "c447cc54-f45e-4758-aa19-0c6372359cfb",
    "papermill": {
     "duration": 0.010613,
     "end_time": "2023-04-30T12:27:22.973840",
     "exception": false,
     "start_time": "2023-04-30T12:27:22.963227",
     "status": "completed"
    },
    "tags": []
   },
   "source": [
    "Mobile Price Classification is a type of classification problem in which the goal is to predict the price range of a mobile device based on its features. The features may include the device's battery capacity, RAM, internal storage, screen size, camera quality, and other specifications.\n",
    "\n",
    "The dataset used for Mobile Price Classification contains various attributes of mobile devices, such as battery power, clock speed, and RAM, as well as their corresponding price ranges. The dataset can be used to train various machine learning algorithms to accurately predict the price range of a mobile device.\n",
    "\n",
    "Mobile Price Classification has many real-world applications, such as helping customers to make informed decisions when purchasing a mobile device based on their budget and required specifications. Additionally, it can also be useful for mobile device manufacturers to understand the market demand for specific features and price ranges in order to optimize their product offerings."
   ]
  },
  {
   "cell_type": "code",
   "execution_count": 1,
   "id": "89f223cd",
   "metadata": {
    "_cell_guid": "4aa25fd5-dd56-434c-a41d-89b9080f4d62",
    "_uuid": "7f0bf6e2-1ef4-4c17-9eda-89aba098315c",
    "collapsed": false,
    "execution": {
     "iopub.execute_input": "2023-04-30T12:27:22.998479Z",
     "iopub.status.busy": "2023-04-30T12:27:22.997464Z",
     "iopub.status.idle": "2023-04-30T12:27:23.010399Z",
     "shell.execute_reply": "2023-04-30T12:27:23.009406Z"
    },
    "jupyter": {
     "outputs_hidden": false
    },
    "papermill": {
     "duration": 0.028177,
     "end_time": "2023-04-30T12:27:23.012861",
     "exception": false,
     "start_time": "2023-04-30T12:27:22.984684",
     "status": "completed"
    },
    "tags": []
   },
   "outputs": [],
   "source": [
    "import numpy as np \n",
    "import pandas as pd"
   ]
  },
  {
   "cell_type": "code",
   "execution_count": 2,
   "id": "4c20c186",
   "metadata": {
    "_cell_guid": "710e8e0d-7b69-4e03-a881-a489d4c1b7ac",
    "_uuid": "a6999453-7a52-4696-b077-537119e2938f",
    "collapsed": false,
    "execution": {
     "iopub.execute_input": "2023-04-30T12:27:23.039075Z",
     "iopub.status.busy": "2023-04-30T12:27:23.037837Z",
     "iopub.status.idle": "2023-04-30T12:27:23.075351Z",
     "shell.execute_reply": "2023-04-30T12:27:23.074308Z"
    },
    "jupyter": {
     "outputs_hidden": false
    },
    "papermill": {
     "duration": 0.054246,
     "end_time": "2023-04-30T12:27:23.078356",
     "exception": false,
     "start_time": "2023-04-30T12:27:23.024110",
     "status": "completed"
    },
    "tags": []
   },
   "outputs": [],
   "source": [
    "train = pd.read_csv('/kaggle/input/mobile-price-classification/train.csv')\n",
    "test = pd.read_csv('/kaggle/input/mobile-price-classification/test.csv')"
   ]
  },
  {
   "cell_type": "markdown",
   "id": "3da5f0e6",
   "metadata": {
    "_cell_guid": "0475f536-fa9a-4c7b-954c-5c1c1987e9e7",
    "_uuid": "fafa1e65-8f56-4140-abca-e3fc81f5a65a",
    "papermill": {
     "duration": 0.010715,
     "end_time": "2023-04-30T12:27:23.100451",
     "exception": false,
     "start_time": "2023-04-30T12:27:23.089736",
     "status": "completed"
    },
    "tags": []
   },
   "source": [
    "## About this dataset"
   ]
  },
  {
   "cell_type": "code",
   "execution_count": 3,
   "id": "4b0ef5fe",
   "metadata": {
    "_cell_guid": "a82fcad7-48af-4efe-8c43-8acc84f8b500",
    "_uuid": "5bd96afd-9197-42b3-abcb-04c5786b371e",
    "collapsed": false,
    "execution": {
     "iopub.execute_input": "2023-04-30T12:27:23.124696Z",
     "iopub.status.busy": "2023-04-30T12:27:23.123620Z",
     "iopub.status.idle": "2023-04-30T12:27:23.131417Z",
     "shell.execute_reply": "2023-04-30T12:27:23.130517Z"
    },
    "jupyter": {
     "outputs_hidden": false
    },
    "papermill": {
     "duration": 0.022283,
     "end_time": "2023-04-30T12:27:23.133689",
     "exception": false,
     "start_time": "2023-04-30T12:27:23.111406",
     "status": "completed"
    },
    "tags": []
   },
   "outputs": [
    {
     "data": {
      "text/plain": [
       "Index(['battery_power', 'blue', 'clock_speed', 'dual_sim', 'fc', 'four_g',\n",
       "       'int_memory', 'm_dep', 'mobile_wt', 'n_cores', 'pc', 'px_height',\n",
       "       'px_width', 'ram', 'sc_h', 'sc_w', 'talk_time', 'three_g',\n",
       "       'touch_screen', 'wifi', 'price_range'],\n",
       "      dtype='object')"
      ]
     },
     "execution_count": 3,
     "metadata": {},
     "output_type": "execute_result"
    }
   ],
   "source": [
    "train.columns"
   ]
  },
  {
   "cell_type": "markdown",
   "id": "ee3ae117",
   "metadata": {
    "_cell_guid": "dc6b12e5-8c9e-424c-b84f-f2db7e2ac57e",
    "_uuid": "33352643-c768-4717-9a2f-06d0f6b39743",
    "papermill": {
     "duration": 0.010752,
     "end_time": "2023-04-30T12:27:23.155868",
     "exception": false,
     "start_time": "2023-04-30T12:27:23.145116",
     "status": "completed"
    },
    "tags": []
   },
   "source": [
    "* battery_power : Total energy a battery can store in one time measured in mAh\n",
    "* blue : Has bluetooth or not\n",
    "* clock_speed : speed at which microprocessor executes instructions\n",
    "* dual_sim : Has dual sim support or not\n",
    "* fc : Front Camera mega pixels\n",
    "* four_g : Has 4G or not\n",
    "* int_memory : Internal Memory in Gigabytes\n",
    "* m_dep : Mobile Depth in cm\n",
    "* mobile_wt : Weight of mobile phone\n",
    "* n_cores : Number of cores of processor\n",
    "* pc : Primary Camera mega pixels\n",
    "* px_height : Pixel Resolution Height\n",
    "* px_width : Pixel Resolution Width\n",
    "* ram : Random Access Memory in Mega Bytes\n",
    "* sc_h : Screen Height of mobile in cm\n",
    "* sc_w : Screen Width of mobile in cm\n",
    "* talk_time : longest time that a single battery charge will last when you are\n",
    "* three_g : Has 3G or not\n",
    "* touch_screen : Has touch screen or not\n",
    "* wifi : Has wifi or not"
   ]
  },
  {
   "cell_type": "code",
   "execution_count": 4,
   "id": "a2f4ea57",
   "metadata": {
    "_cell_guid": "b53011b9-8261-430b-a512-36169f0c26ad",
    "_uuid": "e1b3c55a-4617-4985-a206-b96308ceb381",
    "collapsed": false,
    "execution": {
     "iopub.execute_input": "2023-04-30T12:27:23.180416Z",
     "iopub.status.busy": "2023-04-30T12:27:23.179296Z",
     "iopub.status.idle": "2023-04-30T12:27:23.214804Z",
     "shell.execute_reply": "2023-04-30T12:27:23.213803Z"
    },
    "jupyter": {
     "outputs_hidden": false
    },
    "papermill": {
     "duration": 0.050254,
     "end_time": "2023-04-30T12:27:23.217220",
     "exception": false,
     "start_time": "2023-04-30T12:27:23.166966",
     "status": "completed"
    },
    "tags": []
   },
   "outputs": [
    {
     "data": {
      "text/html": [
       "<div>\n",
       "<style scoped>\n",
       "    .dataframe tbody tr th:only-of-type {\n",
       "        vertical-align: middle;\n",
       "    }\n",
       "\n",
       "    .dataframe tbody tr th {\n",
       "        vertical-align: top;\n",
       "    }\n",
       "\n",
       "    .dataframe thead th {\n",
       "        text-align: right;\n",
       "    }\n",
       "</style>\n",
       "<table border=\"1\" class=\"dataframe\">\n",
       "  <thead>\n",
       "    <tr style=\"text-align: right;\">\n",
       "      <th></th>\n",
       "      <th>battery_power</th>\n",
       "      <th>blue</th>\n",
       "      <th>clock_speed</th>\n",
       "      <th>dual_sim</th>\n",
       "      <th>fc</th>\n",
       "      <th>four_g</th>\n",
       "      <th>int_memory</th>\n",
       "      <th>m_dep</th>\n",
       "      <th>mobile_wt</th>\n",
       "      <th>n_cores</th>\n",
       "      <th>...</th>\n",
       "      <th>px_height</th>\n",
       "      <th>px_width</th>\n",
       "      <th>ram</th>\n",
       "      <th>sc_h</th>\n",
       "      <th>sc_w</th>\n",
       "      <th>talk_time</th>\n",
       "      <th>three_g</th>\n",
       "      <th>touch_screen</th>\n",
       "      <th>wifi</th>\n",
       "      <th>price_range</th>\n",
       "    </tr>\n",
       "  </thead>\n",
       "  <tbody>\n",
       "    <tr>\n",
       "      <th>0</th>\n",
       "      <td>842</td>\n",
       "      <td>0</td>\n",
       "      <td>2.2</td>\n",
       "      <td>0</td>\n",
       "      <td>1</td>\n",
       "      <td>0</td>\n",
       "      <td>7</td>\n",
       "      <td>0.6</td>\n",
       "      <td>188</td>\n",
       "      <td>2</td>\n",
       "      <td>...</td>\n",
       "      <td>20</td>\n",
       "      <td>756</td>\n",
       "      <td>2549</td>\n",
       "      <td>9</td>\n",
       "      <td>7</td>\n",
       "      <td>19</td>\n",
       "      <td>0</td>\n",
       "      <td>0</td>\n",
       "      <td>1</td>\n",
       "      <td>1</td>\n",
       "    </tr>\n",
       "    <tr>\n",
       "      <th>1</th>\n",
       "      <td>1021</td>\n",
       "      <td>1</td>\n",
       "      <td>0.5</td>\n",
       "      <td>1</td>\n",
       "      <td>0</td>\n",
       "      <td>1</td>\n",
       "      <td>53</td>\n",
       "      <td>0.7</td>\n",
       "      <td>136</td>\n",
       "      <td>3</td>\n",
       "      <td>...</td>\n",
       "      <td>905</td>\n",
       "      <td>1988</td>\n",
       "      <td>2631</td>\n",
       "      <td>17</td>\n",
       "      <td>3</td>\n",
       "      <td>7</td>\n",
       "      <td>1</td>\n",
       "      <td>1</td>\n",
       "      <td>0</td>\n",
       "      <td>2</td>\n",
       "    </tr>\n",
       "    <tr>\n",
       "      <th>2</th>\n",
       "      <td>563</td>\n",
       "      <td>1</td>\n",
       "      <td>0.5</td>\n",
       "      <td>1</td>\n",
       "      <td>2</td>\n",
       "      <td>1</td>\n",
       "      <td>41</td>\n",
       "      <td>0.9</td>\n",
       "      <td>145</td>\n",
       "      <td>5</td>\n",
       "      <td>...</td>\n",
       "      <td>1263</td>\n",
       "      <td>1716</td>\n",
       "      <td>2603</td>\n",
       "      <td>11</td>\n",
       "      <td>2</td>\n",
       "      <td>9</td>\n",
       "      <td>1</td>\n",
       "      <td>1</td>\n",
       "      <td>0</td>\n",
       "      <td>2</td>\n",
       "    </tr>\n",
       "    <tr>\n",
       "      <th>3</th>\n",
       "      <td>615</td>\n",
       "      <td>1</td>\n",
       "      <td>2.5</td>\n",
       "      <td>0</td>\n",
       "      <td>0</td>\n",
       "      <td>0</td>\n",
       "      <td>10</td>\n",
       "      <td>0.8</td>\n",
       "      <td>131</td>\n",
       "      <td>6</td>\n",
       "      <td>...</td>\n",
       "      <td>1216</td>\n",
       "      <td>1786</td>\n",
       "      <td>2769</td>\n",
       "      <td>16</td>\n",
       "      <td>8</td>\n",
       "      <td>11</td>\n",
       "      <td>1</td>\n",
       "      <td>0</td>\n",
       "      <td>0</td>\n",
       "      <td>2</td>\n",
       "    </tr>\n",
       "    <tr>\n",
       "      <th>4</th>\n",
       "      <td>1821</td>\n",
       "      <td>1</td>\n",
       "      <td>1.2</td>\n",
       "      <td>0</td>\n",
       "      <td>13</td>\n",
       "      <td>1</td>\n",
       "      <td>44</td>\n",
       "      <td>0.6</td>\n",
       "      <td>141</td>\n",
       "      <td>2</td>\n",
       "      <td>...</td>\n",
       "      <td>1208</td>\n",
       "      <td>1212</td>\n",
       "      <td>1411</td>\n",
       "      <td>8</td>\n",
       "      <td>2</td>\n",
       "      <td>15</td>\n",
       "      <td>1</td>\n",
       "      <td>1</td>\n",
       "      <td>0</td>\n",
       "      <td>1</td>\n",
       "    </tr>\n",
       "  </tbody>\n",
       "</table>\n",
       "<p>5 rows × 21 columns</p>\n",
       "</div>"
      ],
      "text/plain": [
       "   battery_power  blue  clock_speed  dual_sim  fc  four_g  int_memory  m_dep  \\\n",
       "0            842     0          2.2         0   1       0           7    0.6   \n",
       "1           1021     1          0.5         1   0       1          53    0.7   \n",
       "2            563     1          0.5         1   2       1          41    0.9   \n",
       "3            615     1          2.5         0   0       0          10    0.8   \n",
       "4           1821     1          1.2         0  13       1          44    0.6   \n",
       "\n",
       "   mobile_wt  n_cores  ...  px_height  px_width   ram  sc_h  sc_w  talk_time  \\\n",
       "0        188        2  ...         20       756  2549     9     7         19   \n",
       "1        136        3  ...        905      1988  2631    17     3          7   \n",
       "2        145        5  ...       1263      1716  2603    11     2          9   \n",
       "3        131        6  ...       1216      1786  2769    16     8         11   \n",
       "4        141        2  ...       1208      1212  1411     8     2         15   \n",
       "\n",
       "   three_g  touch_screen  wifi  price_range  \n",
       "0        0             0     1            1  \n",
       "1        1             1     0            2  \n",
       "2        1             1     0            2  \n",
       "3        1             0     0            2  \n",
       "4        1             1     0            1  \n",
       "\n",
       "[5 rows x 21 columns]"
      ]
     },
     "execution_count": 4,
     "metadata": {},
     "output_type": "execute_result"
    }
   ],
   "source": [
    "train.head()"
   ]
  },
  {
   "cell_type": "code",
   "execution_count": 5,
   "id": "b6c82d8c",
   "metadata": {
    "_cell_guid": "c3d80f8c-7f7e-4a4d-a759-bc541caf5f98",
    "_uuid": "549fd8f9-13f7-4b63-aedc-5da1b8e1d378",
    "collapsed": false,
    "execution": {
     "iopub.execute_input": "2023-04-30T12:27:23.242584Z",
     "iopub.status.busy": "2023-04-30T12:27:23.241401Z",
     "iopub.status.idle": "2023-04-30T12:27:23.248004Z",
     "shell.execute_reply": "2023-04-30T12:27:23.247105Z"
    },
    "jupyter": {
     "outputs_hidden": false
    },
    "papermill": {
     "duration": 0.0215,
     "end_time": "2023-04-30T12:27:23.250269",
     "exception": false,
     "start_time": "2023-04-30T12:27:23.228769",
     "status": "completed"
    },
    "tags": []
   },
   "outputs": [
    {
     "data": {
      "text/plain": [
       "(2000, 21)"
      ]
     },
     "execution_count": 5,
     "metadata": {},
     "output_type": "execute_result"
    }
   ],
   "source": [
    "train.shape"
   ]
  },
  {
   "cell_type": "code",
   "execution_count": 6,
   "id": "9ceca7f5",
   "metadata": {
    "_cell_guid": "8d102c17-b62f-4080-bb94-36a76e4fe4ba",
    "_uuid": "ae62f927-2dc0-478f-85dc-45020b04fa14",
    "collapsed": false,
    "execution": {
     "iopub.execute_input": "2023-04-30T12:27:23.275668Z",
     "iopub.status.busy": "2023-04-30T12:27:23.274688Z",
     "iopub.status.idle": "2023-04-30T12:27:23.285170Z",
     "shell.execute_reply": "2023-04-30T12:27:23.283915Z"
    },
    "jupyter": {
     "outputs_hidden": false
    },
    "papermill": {
     "duration": 0.02556,
     "end_time": "2023-04-30T12:27:23.287548",
     "exception": false,
     "start_time": "2023-04-30T12:27:23.261988",
     "status": "completed"
    },
    "tags": []
   },
   "outputs": [
    {
     "data": {
      "text/plain": [
       "battery_power    0\n",
       "blue             0\n",
       "clock_speed      0\n",
       "dual_sim         0\n",
       "fc               0\n",
       "four_g           0\n",
       "int_memory       0\n",
       "m_dep            0\n",
       "mobile_wt        0\n",
       "n_cores          0\n",
       "pc               0\n",
       "px_height        0\n",
       "px_width         0\n",
       "ram              0\n",
       "sc_h             0\n",
       "sc_w             0\n",
       "talk_time        0\n",
       "three_g          0\n",
       "touch_screen     0\n",
       "wifi             0\n",
       "price_range      0\n",
       "dtype: int64"
      ]
     },
     "execution_count": 6,
     "metadata": {},
     "output_type": "execute_result"
    }
   ],
   "source": [
    "train.isnull().sum()"
   ]
  },
  {
   "cell_type": "code",
   "execution_count": 7,
   "id": "3cd7fa49",
   "metadata": {
    "_cell_guid": "48091b42-e18c-4d28-9dcd-cb83e649ec26",
    "_uuid": "ae9161ee-04cc-4fdc-a6d9-f4d21ca6d15e",
    "collapsed": false,
    "execution": {
     "iopub.execute_input": "2023-04-30T12:27:23.312973Z",
     "iopub.status.busy": "2023-04-30T12:27:23.312264Z",
     "iopub.status.idle": "2023-04-30T12:27:23.332763Z",
     "shell.execute_reply": "2023-04-30T12:27:23.330875Z"
    },
    "jupyter": {
     "outputs_hidden": false
    },
    "papermill": {
     "duration": 0.036121,
     "end_time": "2023-04-30T12:27:23.335270",
     "exception": false,
     "start_time": "2023-04-30T12:27:23.299149",
     "status": "completed"
    },
    "tags": []
   },
   "outputs": [
    {
     "name": "stdout",
     "output_type": "stream",
     "text": [
      "battery_power [ 842 1021  563 ... 1139 1467  858]\n",
      "blue [0 1]\n",
      "clock_speed [2.2 0.5 2.5 1.2 1.7 0.6 2.9 2.8 2.1 1.  0.9 1.1 2.6 1.4 1.6 2.7 1.3 2.3\n",
      " 2.  1.8 3.  1.5 1.9 2.4 0.8 0.7]\n",
      "dual_sim [0 1]\n",
      "fc [ 1  0  2 13  3  4  5  7 11 12 16  6 15  8  9 10 18 17 14 19]\n",
      "four_g [0 1]\n",
      "int_memory [ 7 53 41 10 44 22 24  9 33 17 52 46 13 23 49 19 39 47 38  8 57 51 21  5\n",
      " 60 61  6 11 50 34 20 27 42 40 64 14 63 43 16 48 12 55 36 30 45 29 58 25\n",
      "  3 54 15 37 31 32  4 18  2 56 26 35 59 28 62]\n",
      "m_dep [0.6 0.7 0.9 0.8 0.1 0.5 1.  0.3 0.4 0.2]\n",
      "mobile_wt [188 136 145 131 141 164 139 187 174  93 182 177 159 198 185 196 121 101\n",
      "  81 156 199 114 111 132 143  96 200  88 150 107 100 157 160 119  87 152\n",
      " 166 110 118 162 127 109 102 104 148 180 128 134 144 168 155 165  80 138\n",
      " 142  90 197 172 116  85 163 178 171 103  83 140 194 146 192 106 135 153\n",
      "  89  82 130 189 181  99 184 195 108 133 179 147 137 190 176  84  97 124\n",
      " 183 113  92  95 151 117  94 173 105 115  91 112 123 129 154 191 175  86\n",
      "  98 125 126 158 170 161 193 169 120 149 186 122 167]\n",
      "n_cores [2 3 5 6 1 8 4 7]\n",
      "pc [ 2  6  9 14  7 10  0 15  1 18 17 11 16  4 20 13  3 19  8  5 12]\n",
      "px_height [  20  905 1263 ...  528  915  483]\n",
      "px_width [ 756 1988 1716 ...  743 1890 1632]\n",
      "ram [2549 2631 2603 ... 2032 3057 3919]\n",
      "sc_h [ 9 17 11 16  8 13 19  5 14 18  7 10 12  6 15]\n",
      "sc_w [ 7  3  2  8  1 10  9  0 15 13  5 11  4 12  6 17 14 16 18]\n",
      "talk_time [19  7  9 11 15 10 18  5 20 12 13  2  4  3 16  6 14 17  8]\n",
      "three_g [0 1]\n",
      "touch_screen [0 1]\n",
      "wifi [1 0]\n",
      "price_range [1 2 3 0]\n"
     ]
    }
   ],
   "source": [
    "for col in train.columns:\n",
    "    print(col, train[col].unique())"
   ]
  },
  {
   "cell_type": "code",
   "execution_count": 8,
   "id": "19ffd722",
   "metadata": {
    "_cell_guid": "926c94c8-40e9-4864-82ca-634d151a5417",
    "_uuid": "f1bb522c-f568-434f-9425-9c0ed945ff4c",
    "collapsed": false,
    "execution": {
     "iopub.execute_input": "2023-04-30T12:27:23.361545Z",
     "iopub.status.busy": "2023-04-30T12:27:23.360810Z",
     "iopub.status.idle": "2023-04-30T12:27:23.394314Z",
     "shell.execute_reply": "2023-04-30T12:27:23.392902Z"
    },
    "jupyter": {
     "outputs_hidden": false
    },
    "papermill": {
     "duration": 0.050095,
     "end_time": "2023-04-30T12:27:23.397086",
     "exception": false,
     "start_time": "2023-04-30T12:27:23.346991",
     "status": "completed"
    },
    "tags": []
   },
   "outputs": [
    {
     "data": {
      "text/html": [
       "<div>\n",
       "<style scoped>\n",
       "    .dataframe tbody tr th:only-of-type {\n",
       "        vertical-align: middle;\n",
       "    }\n",
       "\n",
       "    .dataframe tbody tr th {\n",
       "        vertical-align: top;\n",
       "    }\n",
       "\n",
       "    .dataframe thead th {\n",
       "        text-align: right;\n",
       "    }\n",
       "</style>\n",
       "<table border=\"1\" class=\"dataframe\">\n",
       "  <thead>\n",
       "    <tr style=\"text-align: right;\">\n",
       "      <th></th>\n",
       "      <th>battery_power</th>\n",
       "      <th>blue</th>\n",
       "      <th>clock_speed</th>\n",
       "      <th>dual_sim</th>\n",
       "      <th>fc</th>\n",
       "      <th>four_g</th>\n",
       "      <th>int_memory</th>\n",
       "      <th>m_dep</th>\n",
       "      <th>mobile_wt</th>\n",
       "      <th>n_cores</th>\n",
       "      <th>...</th>\n",
       "      <th>px_height</th>\n",
       "      <th>px_width</th>\n",
       "      <th>ram</th>\n",
       "      <th>sc_h</th>\n",
       "      <th>sc_w</th>\n",
       "      <th>talk_time</th>\n",
       "      <th>three_g</th>\n",
       "      <th>touch_screen</th>\n",
       "      <th>wifi</th>\n",
       "      <th>price_range</th>\n",
       "    </tr>\n",
       "  </thead>\n",
       "  <tbody>\n",
       "    <tr>\n",
       "      <th>0</th>\n",
       "      <td>842</td>\n",
       "      <td>0</td>\n",
       "      <td>2.2</td>\n",
       "      <td>0</td>\n",
       "      <td>1</td>\n",
       "      <td>0</td>\n",
       "      <td>7</td>\n",
       "      <td>0.6</td>\n",
       "      <td>188</td>\n",
       "      <td>2</td>\n",
       "      <td>...</td>\n",
       "      <td>20</td>\n",
       "      <td>756</td>\n",
       "      <td>2549</td>\n",
       "      <td>9</td>\n",
       "      <td>7</td>\n",
       "      <td>19</td>\n",
       "      <td>0</td>\n",
       "      <td>0</td>\n",
       "      <td>1</td>\n",
       "      <td>1</td>\n",
       "    </tr>\n",
       "    <tr>\n",
       "      <th>1</th>\n",
       "      <td>1021</td>\n",
       "      <td>1</td>\n",
       "      <td>0.5</td>\n",
       "      <td>1</td>\n",
       "      <td>0</td>\n",
       "      <td>1</td>\n",
       "      <td>53</td>\n",
       "      <td>0.7</td>\n",
       "      <td>136</td>\n",
       "      <td>3</td>\n",
       "      <td>...</td>\n",
       "      <td>905</td>\n",
       "      <td>1988</td>\n",
       "      <td>2631</td>\n",
       "      <td>17</td>\n",
       "      <td>3</td>\n",
       "      <td>7</td>\n",
       "      <td>1</td>\n",
       "      <td>1</td>\n",
       "      <td>0</td>\n",
       "      <td>2</td>\n",
       "    </tr>\n",
       "    <tr>\n",
       "      <th>2</th>\n",
       "      <td>563</td>\n",
       "      <td>1</td>\n",
       "      <td>0.5</td>\n",
       "      <td>1</td>\n",
       "      <td>2</td>\n",
       "      <td>1</td>\n",
       "      <td>41</td>\n",
       "      <td>0.9</td>\n",
       "      <td>145</td>\n",
       "      <td>5</td>\n",
       "      <td>...</td>\n",
       "      <td>1263</td>\n",
       "      <td>1716</td>\n",
       "      <td>2603</td>\n",
       "      <td>11</td>\n",
       "      <td>2</td>\n",
       "      <td>9</td>\n",
       "      <td>1</td>\n",
       "      <td>1</td>\n",
       "      <td>0</td>\n",
       "      <td>2</td>\n",
       "    </tr>\n",
       "    <tr>\n",
       "      <th>3</th>\n",
       "      <td>615</td>\n",
       "      <td>1</td>\n",
       "      <td>2.5</td>\n",
       "      <td>0</td>\n",
       "      <td>0</td>\n",
       "      <td>0</td>\n",
       "      <td>10</td>\n",
       "      <td>0.8</td>\n",
       "      <td>131</td>\n",
       "      <td>6</td>\n",
       "      <td>...</td>\n",
       "      <td>1216</td>\n",
       "      <td>1786</td>\n",
       "      <td>2769</td>\n",
       "      <td>16</td>\n",
       "      <td>8</td>\n",
       "      <td>11</td>\n",
       "      <td>1</td>\n",
       "      <td>0</td>\n",
       "      <td>0</td>\n",
       "      <td>2</td>\n",
       "    </tr>\n",
       "    <tr>\n",
       "      <th>4</th>\n",
       "      <td>1821</td>\n",
       "      <td>1</td>\n",
       "      <td>1.2</td>\n",
       "      <td>0</td>\n",
       "      <td>13</td>\n",
       "      <td>1</td>\n",
       "      <td>44</td>\n",
       "      <td>0.6</td>\n",
       "      <td>141</td>\n",
       "      <td>2</td>\n",
       "      <td>...</td>\n",
       "      <td>1208</td>\n",
       "      <td>1212</td>\n",
       "      <td>1411</td>\n",
       "      <td>8</td>\n",
       "      <td>2</td>\n",
       "      <td>15</td>\n",
       "      <td>1</td>\n",
       "      <td>1</td>\n",
       "      <td>0</td>\n",
       "      <td>1</td>\n",
       "    </tr>\n",
       "    <tr>\n",
       "      <th>...</th>\n",
       "      <td>...</td>\n",
       "      <td>...</td>\n",
       "      <td>...</td>\n",
       "      <td>...</td>\n",
       "      <td>...</td>\n",
       "      <td>...</td>\n",
       "      <td>...</td>\n",
       "      <td>...</td>\n",
       "      <td>...</td>\n",
       "      <td>...</td>\n",
       "      <td>...</td>\n",
       "      <td>...</td>\n",
       "      <td>...</td>\n",
       "      <td>...</td>\n",
       "      <td>...</td>\n",
       "      <td>...</td>\n",
       "      <td>...</td>\n",
       "      <td>...</td>\n",
       "      <td>...</td>\n",
       "      <td>...</td>\n",
       "      <td>...</td>\n",
       "    </tr>\n",
       "    <tr>\n",
       "      <th>1995</th>\n",
       "      <td>794</td>\n",
       "      <td>1</td>\n",
       "      <td>0.5</td>\n",
       "      <td>1</td>\n",
       "      <td>0</td>\n",
       "      <td>1</td>\n",
       "      <td>2</td>\n",
       "      <td>0.8</td>\n",
       "      <td>106</td>\n",
       "      <td>6</td>\n",
       "      <td>...</td>\n",
       "      <td>1222</td>\n",
       "      <td>1890</td>\n",
       "      <td>668</td>\n",
       "      <td>13</td>\n",
       "      <td>4</td>\n",
       "      <td>19</td>\n",
       "      <td>1</td>\n",
       "      <td>1</td>\n",
       "      <td>0</td>\n",
       "      <td>0</td>\n",
       "    </tr>\n",
       "    <tr>\n",
       "      <th>1996</th>\n",
       "      <td>1965</td>\n",
       "      <td>1</td>\n",
       "      <td>2.6</td>\n",
       "      <td>1</td>\n",
       "      <td>0</td>\n",
       "      <td>0</td>\n",
       "      <td>39</td>\n",
       "      <td>0.2</td>\n",
       "      <td>187</td>\n",
       "      <td>4</td>\n",
       "      <td>...</td>\n",
       "      <td>915</td>\n",
       "      <td>1965</td>\n",
       "      <td>2032</td>\n",
       "      <td>11</td>\n",
       "      <td>10</td>\n",
       "      <td>16</td>\n",
       "      <td>1</td>\n",
       "      <td>1</td>\n",
       "      <td>1</td>\n",
       "      <td>2</td>\n",
       "    </tr>\n",
       "    <tr>\n",
       "      <th>1997</th>\n",
       "      <td>1911</td>\n",
       "      <td>0</td>\n",
       "      <td>0.9</td>\n",
       "      <td>1</td>\n",
       "      <td>1</td>\n",
       "      <td>1</td>\n",
       "      <td>36</td>\n",
       "      <td>0.7</td>\n",
       "      <td>108</td>\n",
       "      <td>8</td>\n",
       "      <td>...</td>\n",
       "      <td>868</td>\n",
       "      <td>1632</td>\n",
       "      <td>3057</td>\n",
       "      <td>9</td>\n",
       "      <td>1</td>\n",
       "      <td>5</td>\n",
       "      <td>1</td>\n",
       "      <td>1</td>\n",
       "      <td>0</td>\n",
       "      <td>3</td>\n",
       "    </tr>\n",
       "    <tr>\n",
       "      <th>1998</th>\n",
       "      <td>1512</td>\n",
       "      <td>0</td>\n",
       "      <td>0.9</td>\n",
       "      <td>0</td>\n",
       "      <td>4</td>\n",
       "      <td>1</td>\n",
       "      <td>46</td>\n",
       "      <td>0.1</td>\n",
       "      <td>145</td>\n",
       "      <td>5</td>\n",
       "      <td>...</td>\n",
       "      <td>336</td>\n",
       "      <td>670</td>\n",
       "      <td>869</td>\n",
       "      <td>18</td>\n",
       "      <td>10</td>\n",
       "      <td>19</td>\n",
       "      <td>1</td>\n",
       "      <td>1</td>\n",
       "      <td>1</td>\n",
       "      <td>0</td>\n",
       "    </tr>\n",
       "    <tr>\n",
       "      <th>1999</th>\n",
       "      <td>510</td>\n",
       "      <td>1</td>\n",
       "      <td>2.0</td>\n",
       "      <td>1</td>\n",
       "      <td>5</td>\n",
       "      <td>1</td>\n",
       "      <td>45</td>\n",
       "      <td>0.9</td>\n",
       "      <td>168</td>\n",
       "      <td>6</td>\n",
       "      <td>...</td>\n",
       "      <td>483</td>\n",
       "      <td>754</td>\n",
       "      <td>3919</td>\n",
       "      <td>19</td>\n",
       "      <td>4</td>\n",
       "      <td>2</td>\n",
       "      <td>1</td>\n",
       "      <td>1</td>\n",
       "      <td>1</td>\n",
       "      <td>3</td>\n",
       "    </tr>\n",
       "  </tbody>\n",
       "</table>\n",
       "<p>2000 rows × 21 columns</p>\n",
       "</div>"
      ],
      "text/plain": [
       "      battery_power  blue  clock_speed  dual_sim  fc  four_g  int_memory  \\\n",
       "0               842     0          2.2         0   1       0           7   \n",
       "1              1021     1          0.5         1   0       1          53   \n",
       "2               563     1          0.5         1   2       1          41   \n",
       "3               615     1          2.5         0   0       0          10   \n",
       "4              1821     1          1.2         0  13       1          44   \n",
       "...             ...   ...          ...       ...  ..     ...         ...   \n",
       "1995            794     1          0.5         1   0       1           2   \n",
       "1996           1965     1          2.6         1   0       0          39   \n",
       "1997           1911     0          0.9         1   1       1          36   \n",
       "1998           1512     0          0.9         0   4       1          46   \n",
       "1999            510     1          2.0         1   5       1          45   \n",
       "\n",
       "      m_dep  mobile_wt  n_cores  ...  px_height  px_width   ram  sc_h  sc_w  \\\n",
       "0       0.6        188        2  ...         20       756  2549     9     7   \n",
       "1       0.7        136        3  ...        905      1988  2631    17     3   \n",
       "2       0.9        145        5  ...       1263      1716  2603    11     2   \n",
       "3       0.8        131        6  ...       1216      1786  2769    16     8   \n",
       "4       0.6        141        2  ...       1208      1212  1411     8     2   \n",
       "...     ...        ...      ...  ...        ...       ...   ...   ...   ...   \n",
       "1995    0.8        106        6  ...       1222      1890   668    13     4   \n",
       "1996    0.2        187        4  ...        915      1965  2032    11    10   \n",
       "1997    0.7        108        8  ...        868      1632  3057     9     1   \n",
       "1998    0.1        145        5  ...        336       670   869    18    10   \n",
       "1999    0.9        168        6  ...        483       754  3919    19     4   \n",
       "\n",
       "      talk_time  three_g  touch_screen  wifi  price_range  \n",
       "0            19        0             0     1            1  \n",
       "1             7        1             1     0            2  \n",
       "2             9        1             1     0            2  \n",
       "3            11        1             0     0            2  \n",
       "4            15        1             1     0            1  \n",
       "...         ...      ...           ...   ...          ...  \n",
       "1995         19        1             1     0            0  \n",
       "1996         16        1             1     1            2  \n",
       "1997          5        1             1     0            3  \n",
       "1998         19        1             1     1            0  \n",
       "1999          2        1             1     1            3  \n",
       "\n",
       "[2000 rows x 21 columns]"
      ]
     },
     "execution_count": 8,
     "metadata": {},
     "output_type": "execute_result"
    }
   ],
   "source": [
    "train.drop_duplicates()"
   ]
  },
  {
   "cell_type": "code",
   "execution_count": 9,
   "id": "38a267c5",
   "metadata": {
    "_cell_guid": "dbd3ccb3-6c56-4c16-a39d-ea6ff71fb855",
    "_uuid": "12aac674-05d5-4c83-8a3e-3ca423383f06",
    "collapsed": false,
    "execution": {
     "iopub.execute_input": "2023-04-30T12:27:23.423592Z",
     "iopub.status.busy": "2023-04-30T12:27:23.423192Z",
     "iopub.status.idle": "2023-04-30T12:27:23.430076Z",
     "shell.execute_reply": "2023-04-30T12:27:23.428870Z"
    },
    "jupyter": {
     "outputs_hidden": false
    },
    "papermill": {
     "duration": 0.02289,
     "end_time": "2023-04-30T12:27:23.432322",
     "exception": false,
     "start_time": "2023-04-30T12:27:23.409432",
     "status": "completed"
    },
    "tags": []
   },
   "outputs": [
    {
     "data": {
      "text/plain": [
       "(2000, 21)"
      ]
     },
     "execution_count": 9,
     "metadata": {},
     "output_type": "execute_result"
    }
   ],
   "source": [
    "train.shape"
   ]
  },
  {
   "cell_type": "markdown",
   "id": "88282857",
   "metadata": {
    "_cell_guid": "c090fde5-0e1d-4adb-aace-cd980798ce7a",
    "_uuid": "d3bf85f8-68fa-4f16-90ce-1664411c4e88",
    "papermill": {
     "duration": 0.011957,
     "end_time": "2023-04-30T12:27:23.456995",
     "exception": false,
     "start_time": "2023-04-30T12:27:23.445038",
     "status": "completed"
    },
    "tags": []
   },
   "source": [
    "## feature selection\n",
    "feature selection on the given dataset using the chi-square test. The SelectKBest class from the sklearn.feature_selection module is used to select the top K features based on the chi-square test scores. Here, the k value is set to 9, which means that the algorithm will select the top 9 features with the highest chi-square test scores."
   ]
  },
  {
   "cell_type": "code",
   "execution_count": 10,
   "id": "bb8d3b7b",
   "metadata": {
    "_cell_guid": "0b175586-8f98-4fb2-9ece-d269aaeb620e",
    "_uuid": "b7a2bb70-acf8-4b1b-81f7-7359f9075901",
    "collapsed": false,
    "execution": {
     "iopub.execute_input": "2023-04-30T12:27:23.484024Z",
     "iopub.status.busy": "2023-04-30T12:27:23.483223Z",
     "iopub.status.idle": "2023-04-30T12:27:24.620039Z",
     "shell.execute_reply": "2023-04-30T12:27:24.618821Z"
    },
    "jupyter": {
     "outputs_hidden": false
    },
    "papermill": {
     "duration": 1.153693,
     "end_time": "2023-04-30T12:27:24.622958",
     "exception": false,
     "start_time": "2023-04-30T12:27:23.469265",
     "status": "completed"
    },
    "tags": []
   },
   "outputs": [],
   "source": [
    "from sklearn.feature_selection import SelectKBest, chi2\n",
    "\n",
    "# select top K features using chi-square test\n",
    "selector = SelectKBest(chi2, k=9)\n",
    "X_new = selector.fit_transform(train.drop(['price_range'], axis=1), train['price_range'])"
   ]
  },
  {
   "cell_type": "code",
   "execution_count": 11,
   "id": "38574799",
   "metadata": {
    "_cell_guid": "eb80c6bd-3ddb-464a-927d-0537c58fa153",
    "_uuid": "dd5cb1b9-b1c8-45d4-8db8-eb14ddd7f7e1",
    "collapsed": false,
    "execution": {
     "iopub.execute_input": "2023-04-30T12:27:24.649818Z",
     "iopub.status.busy": "2023-04-30T12:27:24.649410Z",
     "iopub.status.idle": "2023-04-30T12:27:24.659061Z",
     "shell.execute_reply": "2023-04-30T12:27:24.657788Z"
    },
    "jupyter": {
     "outputs_hidden": false
    },
    "papermill": {
     "duration": 0.026209,
     "end_time": "2023-04-30T12:27:24.661558",
     "exception": false,
     "start_time": "2023-04-30T12:27:24.635349",
     "status": "completed"
    },
    "tags": []
   },
   "outputs": [
    {
     "data": {
      "text/plain": [
       "array(['battery_power', 'fc', 'int_memory', 'mobile_wt', 'px_height',\n",
       "       'px_width', 'ram', 'sc_w', 'talk_time'], dtype=object)"
      ]
     },
     "execution_count": 11,
     "metadata": {},
     "output_type": "execute_result"
    }
   ],
   "source": [
    "# show the selected features\n",
    "features = train.drop(['price_range'], axis=1).columns[selector.get_support()]\n",
    "features.values"
   ]
  },
  {
   "cell_type": "markdown",
   "id": "cdfcc37a",
   "metadata": {
    "_cell_guid": "fa6f5d28-91e1-4d10-b329-d00a493c77dc",
    "_uuid": "00cef8e7-522b-47d2-a873-5a3ba3c91cd4",
    "papermill": {
     "duration": 0.012063,
     "end_time": "2023-04-30T12:27:24.686013",
     "exception": false,
     "start_time": "2023-04-30T12:27:24.673950",
     "status": "completed"
    },
    "tags": []
   },
   "source": [
    "## Data Splitting\n",
    "We split the dataset into a training set and a testing set with a ratio of 80:20. The training set was used to train the models, while the testing set was used to evaluate its performance."
   ]
  },
  {
   "cell_type": "code",
   "execution_count": 12,
   "id": "360da486",
   "metadata": {
    "_cell_guid": "9249e081-0803-4b9f-a6b0-59f0b635dcd6",
    "_uuid": "7825dffe-7059-4539-82a8-db124eda1c74",
    "collapsed": false,
    "execution": {
     "iopub.execute_input": "2023-04-30T12:27:24.713202Z",
     "iopub.status.busy": "2023-04-30T12:27:24.712747Z",
     "iopub.status.idle": "2023-04-30T12:27:24.717862Z",
     "shell.execute_reply": "2023-04-30T12:27:24.716988Z"
    },
    "jupyter": {
     "outputs_hidden": false
    },
    "papermill": {
     "duration": 0.021802,
     "end_time": "2023-04-30T12:27:24.720193",
     "exception": false,
     "start_time": "2023-04-30T12:27:24.698391",
     "status": "completed"
    },
    "tags": []
   },
   "outputs": [],
   "source": [
    "from sklearn.model_selection import train_test_split"
   ]
  },
  {
   "cell_type": "code",
   "execution_count": 13,
   "id": "73f1c4b8",
   "metadata": {
    "_cell_guid": "53043803-f0a6-42ba-a632-20fc71d9edda",
    "_uuid": "de7d46e4-83d6-4029-9b81-8695ce4ea7cf",
    "collapsed": false,
    "execution": {
     "iopub.execute_input": "2023-04-30T12:27:24.747372Z",
     "iopub.status.busy": "2023-04-30T12:27:24.746588Z",
     "iopub.status.idle": "2023-04-30T12:27:24.754345Z",
     "shell.execute_reply": "2023-04-30T12:27:24.753394Z"
    },
    "jupyter": {
     "outputs_hidden": false
    },
    "papermill": {
     "duration": 0.024443,
     "end_time": "2023-04-30T12:27:24.756995",
     "exception": false,
     "start_time": "2023-04-30T12:27:24.732552",
     "status": "completed"
    },
    "tags": []
   },
   "outputs": [],
   "source": [
    "X_train, X_test, y_train, y_test = train_test_split(X_new, train['price_range'], test_size=0.2, random_state=42)"
   ]
  },
  {
   "cell_type": "markdown",
   "id": "f5c47a95",
   "metadata": {
    "_cell_guid": "30276d27-60e6-4f81-b91c-be9bb8051cdc",
    "_uuid": "b9648251-3814-401b-a426-65159df4dbc9",
    "papermill": {
     "duration": 0.01233,
     "end_time": "2023-04-30T12:27:24.781880",
     "exception": false,
     "start_time": "2023-04-30T12:27:24.769550",
     "status": "completed"
    },
    "tags": []
   },
   "source": [
    "## Model evaluation process for classification models using various algorithms\n",
    "The process involves defining a list of classification algorithms and evaluating each algorithm on the training data using the fit method. Then, the target variable values for the test dataset are predicted using the predict method, and the accuracy of the model is calculated using the accuracy_score method from sklearn.metrics. The accuracy scores for each algorithm are then saved in the results dictionary and printed in percentage form using the print statement. This process helps to identify the best algorithm for the given dataset based on the accuracy scores, making it a useful tool in model selection and optimization."
   ]
  },
  {
   "cell_type": "code",
   "execution_count": 14,
   "id": "f8b1ffa8",
   "metadata": {
    "_cell_guid": "83f11964-b565-4eae-be9f-f6bf781e8ee5",
    "_uuid": "a30b033d-45bd-4714-ba8c-807e4ff750c1",
    "collapsed": false,
    "execution": {
     "iopub.execute_input": "2023-04-30T12:27:24.809652Z",
     "iopub.status.busy": "2023-04-30T12:27:24.808791Z",
     "iopub.status.idle": "2023-04-30T12:27:25.078764Z",
     "shell.execute_reply": "2023-04-30T12:27:25.077799Z"
    },
    "jupyter": {
     "outputs_hidden": false
    },
    "papermill": {
     "duration": 0.286869,
     "end_time": "2023-04-30T12:27:25.081619",
     "exception": false,
     "start_time": "2023-04-30T12:27:24.794750",
     "status": "completed"
    },
    "tags": []
   },
   "outputs": [],
   "source": [
    "from sklearn.metrics import accuracy_score\n",
    "from sklearn.ensemble import RandomForestClassifier\n",
    "from sklearn.linear_model import LogisticRegression\n",
    "from sklearn.svm import SVC\n",
    "from sklearn.neighbors import KNeighborsClassifier\n",
    "from sklearn.tree import DecisionTreeClassifier\n",
    "from sklearn.ensemble import AdaBoostClassifier\n",
    "from sklearn.ensemble import GradientBoostingClassifier\n",
    "from sklearn.ensemble import ExtraTreesClassifier\n",
    "from sklearn.naive_bayes import GaussianNB\n",
    "from sklearn.discriminant_analysis import LinearDiscriminantAnalysis\n",
    "from sklearn.discriminant_analysis import QuadraticDiscriminantAnalysis\n",
    "from xgboost import XGBClassifier"
   ]
  },
  {
   "cell_type": "code",
   "execution_count": 15,
   "id": "fbb08010",
   "metadata": {
    "_cell_guid": "77a23264-99e7-4456-b30b-e8dfb881ec16",
    "_uuid": "d1a01cca-87e1-4c48-b7b1-aae0f9b30bcd",
    "collapsed": false,
    "execution": {
     "iopub.execute_input": "2023-04-30T12:27:25.109674Z",
     "iopub.status.busy": "2023-04-30T12:27:25.108970Z",
     "iopub.status.idle": "2023-04-30T12:27:25.117314Z",
     "shell.execute_reply": "2023-04-30T12:27:25.116397Z"
    },
    "jupyter": {
     "outputs_hidden": false
    },
    "papermill": {
     "duration": 0.025068,
     "end_time": "2023-04-30T12:27:25.119740",
     "exception": false,
     "start_time": "2023-04-30T12:27:25.094672",
     "status": "completed"
    },
    "tags": []
   },
   "outputs": [],
   "source": [
    "# prepare models\n",
    "models = []\n",
    "models.append(('LR', LogisticRegression()))\n",
    "models.append(('LDA', LinearDiscriminantAnalysis()))\n",
    "models.append(('KNN', KNeighborsClassifier()))\n",
    "models.append(('CART', DecisionTreeClassifier()))\n",
    "models.append(('NB', GaussianNB()))\n",
    "models.append(('SVM', SVC()))\n",
    "models.append(('RF', RandomForestClassifier()))\n",
    "models.append(('ET', ExtraTreesClassifier()))\n",
    "models.append(('AB', AdaBoostClassifier()))\n",
    "models.append(('GBM', GradientBoostingClassifier()))\n",
    "models.append(('Qua', QuadraticDiscriminantAnalysis()))\n",
    "models.append(('XGB', XGBClassifier()))"
   ]
  },
  {
   "cell_type": "code",
   "execution_count": 16,
   "id": "4a8e7e1a",
   "metadata": {
    "_cell_guid": "9ec17bd4-537a-4007-a09a-5ee41d1ce265",
    "_uuid": "1c688f99-d062-4012-b872-6155ee3d5845",
    "collapsed": false,
    "execution": {
     "iopub.execute_input": "2023-04-30T12:27:25.147002Z",
     "iopub.status.busy": "2023-04-30T12:27:25.146557Z",
     "iopub.status.idle": "2023-04-30T12:27:28.742367Z",
     "shell.execute_reply": "2023-04-30T12:27:28.741275Z"
    },
    "jupyter": {
     "outputs_hidden": false
    },
    "papermill": {
     "duration": 3.612541,
     "end_time": "2023-04-30T12:27:28.744875",
     "exception": false,
     "start_time": "2023-04-30T12:27:25.132334",
     "status": "completed"
    },
    "tags": []
   },
   "outputs": [
    {
     "name": "stderr",
     "output_type": "stream",
     "text": [
      "/opt/conda/lib/python3.7/site-packages/sklearn/linear_model/_logistic.py:818: ConvergenceWarning: lbfgs failed to converge (status=1):\n",
      "STOP: TOTAL NO. of ITERATIONS REACHED LIMIT.\n",
      "\n",
      "Increase the number of iterations (max_iter) or scale the data as shown in:\n",
      "    https://scikit-learn.org/stable/modules/preprocessing.html\n",
      "Please also refer to the documentation for alternative solver options:\n",
      "    https://scikit-learn.org/stable/modules/linear_model.html#logistic-regression\n",
      "  extra_warning_msg=_LOGISTIC_SOLVER_CONVERGENCE_MSG,\n"
     ]
    },
    {
     "name": "stdout",
     "output_type": "stream",
     "text": [
      "LR: 62.000%\n",
      "LDA: 94.500%\n",
      "KNN: 94.250%\n",
      "CART: 84.500%\n",
      "NB: 79.500%\n",
      "SVM: 96.500%\n",
      "RF: 92.250%\n",
      "ET: 90.750%\n",
      "AB: 57.000%\n",
      "GBM: 89.750%\n",
      "Qua: 96.250%\n",
      "XGB: 90.250%\n"
     ]
    }
   ],
   "source": [
    "# evaluate each model in turn\n",
    "results = {}\n",
    "for name, model in models:\n",
    "    model.fit(X_train, y_train)\n",
    "    y_pred = model.predict(X_test)\n",
    "    acc = accuracy_score(y_test, y_pred)\n",
    "    results[name] = acc\n",
    "    print(\"%s: %.3f%%\" % (name, acc * 100))"
   ]
  },
  {
   "cell_type": "markdown",
   "id": "c77c53d1",
   "metadata": {
    "_cell_guid": "da56f742-6ce6-461a-89c9-4fd2c8e34f46",
    "_uuid": "cf53346c-97ef-4800-ae32-bc2c051b8e3c",
    "papermill": {
     "duration": 0.013064,
     "end_time": "2023-04-30T12:27:28.771486",
     "exception": false,
     "start_time": "2023-04-30T12:27:28.758422",
     "status": "completed"
    },
    "tags": []
   },
   "source": [
    "### The best model is SVM so I want to change kernel maybe get accuracy better than last one"
   ]
  },
  {
   "cell_type": "code",
   "execution_count": 17,
   "id": "0ee76df9",
   "metadata": {
    "_cell_guid": "2943a5c8-1135-49b5-a749-105baabd80ae",
    "_uuid": "e883c89a-7a34-46d5-8eb7-c2b1f2e5a9ac",
    "collapsed": false,
    "execution": {
     "iopub.execute_input": "2023-04-30T12:27:28.799149Z",
     "iopub.status.busy": "2023-04-30T12:27:28.798634Z",
     "iopub.status.idle": "2023-04-30T12:27:28.803715Z",
     "shell.execute_reply": "2023-04-30T12:27:28.802625Z"
    },
    "jupyter": {
     "outputs_hidden": false
    },
    "papermill": {
     "duration": 0.022068,
     "end_time": "2023-04-30T12:27:28.806274",
     "exception": false,
     "start_time": "2023-04-30T12:27:28.784206",
     "status": "completed"
    },
    "tags": []
   },
   "outputs": [],
   "source": [
    "model = SVC(kernel='linear')"
   ]
  },
  {
   "cell_type": "code",
   "execution_count": 18,
   "id": "af9fe1d6",
   "metadata": {
    "_cell_guid": "71e8c036-3fdb-4c41-ac22-e7325a47b5b1",
    "_uuid": "a669f243-b5ef-41a2-bf8f-0c9d6519e7b0",
    "collapsed": false,
    "execution": {
     "iopub.execute_input": "2023-04-30T12:27:28.834009Z",
     "iopub.status.busy": "2023-04-30T12:27:28.833541Z",
     "iopub.status.idle": "2023-04-30T12:27:45.420636Z",
     "shell.execute_reply": "2023-04-30T12:27:45.419688Z"
    },
    "jupyter": {
     "outputs_hidden": false
    },
    "papermill": {
     "duration": 16.603838,
     "end_time": "2023-04-30T12:27:45.423187",
     "exception": false,
     "start_time": "2023-04-30T12:27:28.819349",
     "status": "completed"
    },
    "tags": []
   },
   "outputs": [
    {
     "data": {
      "text/plain": [
       "SVC(kernel='linear')"
      ]
     },
     "execution_count": 18,
     "metadata": {},
     "output_type": "execute_result"
    }
   ],
   "source": [
    "model.fit(X_train, y_train)"
   ]
  },
  {
   "cell_type": "code",
   "execution_count": 19,
   "id": "d090a39e",
   "metadata": {
    "_cell_guid": "70bd20fe-6fb2-4faa-8f87-a3597a87027b",
    "_uuid": "bf94bcf1-a4e9-4dfe-bbd1-eb2166521568",
    "collapsed": false,
    "execution": {
     "iopub.execute_input": "2023-04-30T12:27:45.451433Z",
     "iopub.status.busy": "2023-04-30T12:27:45.450525Z",
     "iopub.status.idle": "2023-04-30T12:27:45.457715Z",
     "shell.execute_reply": "2023-04-30T12:27:45.456477Z"
    },
    "jupyter": {
     "outputs_hidden": false
    },
    "papermill": {
     "duration": 0.024189,
     "end_time": "2023-04-30T12:27:45.460461",
     "exception": false,
     "start_time": "2023-04-30T12:27:45.436272",
     "status": "completed"
    },
    "tags": []
   },
   "outputs": [],
   "source": [
    "pred = model.predict(X_test)"
   ]
  },
  {
   "cell_type": "code",
   "execution_count": 20,
   "id": "1d819cd5",
   "metadata": {
    "_cell_guid": "d689d5a9-bdc4-445c-9bce-ce9c4b8d7f79",
    "_uuid": "741f7aac-72ee-4760-84b0-28a1bfcaab3e",
    "collapsed": false,
    "execution": {
     "iopub.execute_input": "2023-04-30T12:27:45.488606Z",
     "iopub.status.busy": "2023-04-30T12:27:45.488195Z",
     "iopub.status.idle": "2023-04-30T12:27:45.494667Z",
     "shell.execute_reply": "2023-04-30T12:27:45.493398Z"
    },
    "jupyter": {
     "outputs_hidden": false
    },
    "papermill": {
     "duration": 0.024177,
     "end_time": "2023-04-30T12:27:45.497620",
     "exception": false,
     "start_time": "2023-04-30T12:27:45.473443",
     "status": "completed"
    },
    "tags": []
   },
   "outputs": [
    {
     "name": "stdout",
     "output_type": "stream",
     "text": [
      "SVM linear kernel 98.5%\n"
     ]
    }
   ],
   "source": [
    "print(f\"SVM linear kernel {accuracy_score(y_test, pred)*100}%\")"
   ]
  },
  {
   "cell_type": "markdown",
   "id": "14d6395b",
   "metadata": {
    "_cell_guid": "c5b2f745-1a81-4ef6-ac2b-7afd7c6b5c42",
    "_uuid": "4e063cc1-0d19-412a-8a0d-f43928e8d629",
    "papermill": {
     "duration": 0.013058,
     "end_time": "2023-04-30T12:27:45.523585",
     "exception": false,
     "start_time": "2023-04-30T12:27:45.510527",
     "status": "completed"
    },
    "tags": []
   },
   "source": [
    "## Evaluation\n",
    "We evaluated the performance of the SVM model on the testing set using scikit-learn's metrics.accuracy_score function. We obtained an accuracy score of **0.985**, indicating that the model is able to correctly classify almost **98.5%** ."
   ]
  },
  {
   "cell_type": "code",
   "execution_count": 21,
   "id": "98d8b6d0",
   "metadata": {
    "_cell_guid": "1348016e-4372-4f05-b6b4-37a3c74379a6",
    "_uuid": "0ee90789-d33b-457c-9dd0-61522550f43e",
    "collapsed": false,
    "execution": {
     "iopub.execute_input": "2023-04-30T12:27:45.552659Z",
     "iopub.status.busy": "2023-04-30T12:27:45.552098Z",
     "iopub.status.idle": "2023-04-30T12:27:45.557375Z",
     "shell.execute_reply": "2023-04-30T12:27:45.555899Z"
    },
    "jupyter": {
     "outputs_hidden": false
    },
    "papermill": {
     "duration": 0.022511,
     "end_time": "2023-04-30T12:27:45.559855",
     "exception": false,
     "start_time": "2023-04-30T12:27:45.537344",
     "status": "completed"
    },
    "tags": []
   },
   "outputs": [],
   "source": [
    "import matplotlib.pyplot as plt\n",
    "from sklearn import metrics"
   ]
  },
  {
   "cell_type": "code",
   "execution_count": 22,
   "id": "29c0ee60",
   "metadata": {
    "_cell_guid": "268fe80b-429b-4a67-a203-c345a39f177e",
    "_uuid": "1a3b12f0-4c04-4bab-8dd8-a2a815110960",
    "collapsed": false,
    "execution": {
     "iopub.execute_input": "2023-04-30T12:27:45.589004Z",
     "iopub.status.busy": "2023-04-30T12:27:45.587675Z",
     "iopub.status.idle": "2023-04-30T12:27:45.596288Z",
     "shell.execute_reply": "2023-04-30T12:27:45.594969Z"
    },
    "jupyter": {
     "outputs_hidden": false
    },
    "papermill": {
     "duration": 0.025378,
     "end_time": "2023-04-30T12:27:45.598646",
     "exception": false,
     "start_time": "2023-04-30T12:27:45.573268",
     "status": "completed"
    },
    "tags": []
   },
   "outputs": [
    {
     "name": "stdout",
     "output_type": "stream",
     "text": [
      "Precision score = 0.9852280539341828\n"
     ]
    }
   ],
   "source": [
    "print(f\"Precision score = {metrics.precision_score(y_test,pred, average='weighted')}\")"
   ]
  },
  {
   "cell_type": "code",
   "execution_count": 23,
   "id": "87020ac4",
   "metadata": {
    "_cell_guid": "3633038a-04a3-4292-aba5-cc765f98e684",
    "_uuid": "9c2fc8bd-a953-4105-96b9-57a121618c03",
    "collapsed": false,
    "execution": {
     "iopub.execute_input": "2023-04-30T12:27:45.626428Z",
     "iopub.status.busy": "2023-04-30T12:27:45.626007Z",
     "iopub.status.idle": "2023-04-30T12:27:45.634762Z",
     "shell.execute_reply": "2023-04-30T12:27:45.633343Z"
    },
    "jupyter": {
     "outputs_hidden": false
    },
    "papermill": {
     "duration": 0.026059,
     "end_time": "2023-04-30T12:27:45.637673",
     "exception": false,
     "start_time": "2023-04-30T12:27:45.611614",
     "status": "completed"
    },
    "tags": []
   },
   "outputs": [
    {
     "name": "stdout",
     "output_type": "stream",
     "text": [
      "Recall score = 0.985\n"
     ]
    }
   ],
   "source": [
    "print(f\"Recall score = {metrics.recall_score(y_test,pred, average='weighted')}\")"
   ]
  },
  {
   "cell_type": "code",
   "execution_count": 24,
   "id": "fe00638c",
   "metadata": {
    "_cell_guid": "ec38fad8-968e-47ad-a728-8dda61549c33",
    "_uuid": "51919e70-7b9f-4273-8587-19e70d26331c",
    "collapsed": false,
    "execution": {
     "iopub.execute_input": "2023-04-30T12:27:45.666146Z",
     "iopub.status.busy": "2023-04-30T12:27:45.665411Z",
     "iopub.status.idle": "2023-04-30T12:27:45.980417Z",
     "shell.execute_reply": "2023-04-30T12:27:45.979374Z"
    },
    "jupyter": {
     "outputs_hidden": false
    },
    "papermill": {
     "duration": 0.332056,
     "end_time": "2023-04-30T12:27:45.982790",
     "exception": false,
     "start_time": "2023-04-30T12:27:45.650734",
     "status": "completed"
    },
    "tags": []
   },
   "outputs": [
    {
     "data": {
      "image/png": "[encoded data removed]",
      "text/plain": [
       "<Figure size 640x480 with 2 Axes>"
      ]
     },
     "metadata": {},
     "output_type": "display_data"
    }
   ],
   "source": [
    "target_names = ['low cost', 'medium cost', 'high cost', 'very high cost']\n",
    "labels_names = [0,1,2,3]\n",
    "cm = metrics.confusion_matrix(y_test, pred,labels=labels_names)\n",
    "disp = metrics.ConfusionMatrixDisplay(confusion_matrix=cm,display_labels=target_names)\n",
    "disp = disp.plot(cmap=plt.cm.Greens,values_format='g')\n",
    "plt.show()"
   ]
  },
  {
   "cell_type": "markdown",
   "id": "ba49d969",
   "metadata": {
    "_cell_guid": "1653d36d-b37e-4b10-b498-c1a8aabb01c3",
    "_uuid": "ae91bfbd-5c5f-4268-9a39-e6f53f7e6c89",
    "papermill": {
     "duration": 0.013424,
     "end_time": "2023-04-30T12:27:46.010303",
     "exception": false,
     "start_time": "2023-04-30T12:27:45.996879",
     "status": "completed"
    },
    "tags": []
   },
   "source": [
    "### I re-fit all the data in order to re-predict it to the test file and store the result"
   ]
  },
  {
   "cell_type": "code",
   "execution_count": 25,
   "id": "e88e4f28",
   "metadata": {
    "_cell_guid": "fd328ddd-0e2a-412d-bc25-8101bf872c70",
    "_uuid": "2032bdf1-0fc7-4328-8d9b-73edfc8f99f8",
    "collapsed": false,
    "execution": {
     "iopub.execute_input": "2023-04-30T12:27:46.040093Z",
     "iopub.status.busy": "2023-04-30T12:27:46.039641Z",
     "iopub.status.idle": "2023-04-30T12:28:20.115527Z",
     "shell.execute_reply": "2023-04-30T12:28:20.114265Z"
    },
    "jupyter": {
     "outputs_hidden": false
    },
    "papermill": {
     "duration": 34.107716,
     "end_time": "2023-04-30T12:28:20.131801",
     "exception": false,
     "start_time": "2023-04-30T12:27:46.024085",
     "status": "completed"
    },
    "tags": []
   },
   "outputs": [
    {
     "data": {
      "text/plain": [
       "SVC(kernel='linear')"
      ]
     },
     "execution_count": 25,
     "metadata": {},
     "output_type": "execute_result"
    }
   ],
   "source": [
    "best_model = SVC(kernel=\"linear\")\n",
    "best_model.fit(X_new, train['price_range'])"
   ]
  },
  {
   "cell_type": "code",
   "execution_count": 26,
   "id": "92472922",
   "metadata": {
    "_cell_guid": "d902d767-68e6-4a44-af5c-dd4e7d9e85e5",
    "_uuid": "fe3ede14-b040-43d6-8861-014f42f3d24c",
    "collapsed": false,
    "execution": {
     "iopub.execute_input": "2023-04-30T12:28:20.161667Z",
     "iopub.status.busy": "2023-04-30T12:28:20.161253Z",
     "iopub.status.idle": "2023-04-30T12:28:20.170134Z",
     "shell.execute_reply": "2023-04-30T12:28:20.168948Z"
    },
    "jupyter": {
     "outputs_hidden": false
    },
    "papermill": {
     "duration": 0.02661,
     "end_time": "2023-04-30T12:28:20.172672",
     "exception": false,
     "start_time": "2023-04-30T12:28:20.146062",
     "status": "completed"
    },
    "tags": []
   },
   "outputs": [],
   "source": [
    "test_new = selector.transform(test.drop(['id'], axis=1))"
   ]
  },
  {
   "cell_type": "code",
   "execution_count": 27,
   "id": "9b0ddf9a",
   "metadata": {
    "_cell_guid": "5a4dedad-7baf-4485-aa90-6f6a687a44ed",
    "_uuid": "e57c1a2e-cf42-46a0-8dd0-b8ceaf3d7005",
    "collapsed": false,
    "execution": {
     "iopub.execute_input": "2023-04-30T12:28:20.202710Z",
     "iopub.status.busy": "2023-04-30T12:28:20.202263Z",
     "iopub.status.idle": "2023-04-30T12:28:20.211117Z",
     "shell.execute_reply": "2023-04-30T12:28:20.209868Z"
    },
    "jupyter": {
     "outputs_hidden": false
    },
    "papermill": {
     "duration": 0.027103,
     "end_time": "2023-04-30T12:28:20.213871",
     "exception": false,
     "start_time": "2023-04-30T12:28:20.186768",
     "status": "completed"
    },
    "tags": []
   },
   "outputs": [],
   "source": [
    "test_pred = best_model.predict(test_new)"
   ]
  },
  {
   "cell_type": "code",
   "execution_count": 28,
   "id": "1bb10218",
   "metadata": {
    "_cell_guid": "eb888898-d707-49ba-850a-211c3c710824",
    "_uuid": "e57bac21-59c6-4ed7-9cd5-dd777a844e4d",
    "collapsed": false,
    "execution": {
     "iopub.execute_input": "2023-04-30T12:28:20.243754Z",
     "iopub.status.busy": "2023-04-30T12:28:20.243319Z",
     "iopub.status.idle": "2023-04-30T12:28:20.249340Z",
     "shell.execute_reply": "2023-04-30T12:28:20.248179Z"
    },
    "jupyter": {
     "outputs_hidden": false
    },
    "papermill": {
     "duration": 0.023999,
     "end_time": "2023-04-30T12:28:20.251741",
     "exception": false,
     "start_time": "2023-04-30T12:28:20.227742",
     "status": "completed"
    },
    "tags": []
   },
   "outputs": [],
   "source": [
    "test_pred = pd.DataFrame(test_pred, columns=['price_range'])"
   ]
  },
  {
   "cell_type": "code",
   "execution_count": 29,
   "id": "5d22f56d",
   "metadata": {
    "_cell_guid": "9d75db28-590d-4f29-8289-3f1c93c24112",
    "_uuid": "98dea90c-2995-41f7-b5c1-c43e1c467b32",
    "collapsed": false,
    "execution": {
     "iopub.execute_input": "2023-04-30T12:28:20.282126Z",
     "iopub.status.busy": "2023-04-30T12:28:20.280976Z",
     "iopub.status.idle": "2023-04-30T12:28:20.287741Z",
     "shell.execute_reply": "2023-04-30T12:28:20.286569Z"
    },
    "jupyter": {
     "outputs_hidden": false
    },
    "papermill": {
     "duration": 0.024271,
     "end_time": "2023-04-30T12:28:20.289997",
     "exception": false,
     "start_time": "2023-04-30T12:28:20.265726",
     "status": "completed"
    },
    "tags": []
   },
   "outputs": [],
   "source": [
    "test_pred['id'] = test['id']"
   ]
  },
  {
   "cell_type": "code",
   "execution_count": 30,
   "id": "266a968a",
   "metadata": {
    "_cell_guid": "3fe6a540-5ec6-4299-933e-4a3557430a24",
    "_uuid": "ee9ad701-9fd3-4758-800e-f963950f9863",
    "collapsed": false,
    "execution": {
     "iopub.execute_input": "2023-04-30T12:28:20.319518Z",
     "iopub.status.busy": "2023-04-30T12:28:20.318823Z",
     "iopub.status.idle": "2023-04-30T12:28:20.325736Z",
     "shell.execute_reply": "2023-04-30T12:28:20.324558Z"
    },
    "jupyter": {
     "outputs_hidden": false
    },
    "papermill": {
     "duration": 0.024265,
     "end_time": "2023-04-30T12:28:20.328137",
     "exception": false,
     "start_time": "2023-04-30T12:28:20.303872",
     "status": "completed"
    },
    "tags": []
   },
   "outputs": [],
   "source": [
    "test_pred = test_pred[['id', 'price_range']]"
   ]
  },
  {
   "cell_type": "code",
   "execution_count": 31,
   "id": "9b43d2ea",
   "metadata": {
    "_cell_guid": "7ffe5802-fdd9-41c1-9566-e1a847f20ff4",
    "_uuid": "6976f1c1-ed30-4a26-b448-164a7e741cb8",
    "collapsed": false,
    "execution": {
     "iopub.execute_input": "2023-04-30T12:28:20.357985Z",
     "iopub.status.busy": "2023-04-30T12:28:20.357525Z",
     "iopub.status.idle": "2023-04-30T12:28:20.369660Z",
     "shell.execute_reply": "2023-04-30T12:28:20.368428Z"
    },
    "jupyter": {
     "outputs_hidden": false
    },
    "papermill": {
     "duration": 0.030103,
     "end_time": "2023-04-30T12:28:20.372431",
     "exception": false,
     "start_time": "2023-04-30T12:28:20.342328",
     "status": "completed"
    },
    "tags": []
   },
   "outputs": [],
   "source": [
    "test_pred.to_csv('/kaggle/working/submission.csv', index=False)"
   ]
  },
  {
   "cell_type": "markdown",
   "id": "27f018a5",
   "metadata": {
    "_cell_guid": "63aa4e2d-2c9f-4602-b81d-d8cdac99d6a0",
    "_uuid": "dd05a5ab-9d95-44c3-bb5b-979c8032262f",
    "papermill": {
     "duration": 0.013506,
     "end_time": "2023-04-30T12:28:20.400063",
     "exception": false,
     "start_time": "2023-04-30T12:28:20.386557",
     "status": "completed"
    },
    "tags": []
   },
   "source": [
    "## Conclusion\n",
    "\n",
    "The SVM model with a linear kernel achieved an impressive accuracy score of 98.5% in predicting the mobile price classification. This suggests that the chosen features and the SVM algorithm with a linear kernel are suitable for the classification task. The SelectKBest feature selection method using chi-square test was used to select the top 9 features for the model. Further experimentation with different feature selection methods or kernel types could be explored to see if they improve the accuracy even further. Overall, the achieved accuracy score is very promising and could be useful in practical applications for predicting mobile phone prices."
   ]
  },
  {
   "cell_type": "markdown",
   "id": "ee79878e",
   "metadata": {
    "_cell_guid": "3c6b877f-ae09-4e40-922e-2ceaddf78e75",
    "_uuid": "7d2bc7df-03ca-44d5-bf94-9205cbefd21c",
    "papermill": {
     "duration": 0.013335,
     "end_time": "2023-04-30T12:28:20.427148",
     "exception": false,
     "start_time": "2023-04-30T12:28:20.413813",
     "status": "completed"
    },
    "tags": []
   },
   "source": [
    "Jameel Sawafta\n",
    "\n",
    "jameelsawafta.wlar@gmail.com"
   ]
  }
 ],
 "metadata": {
  "kernelspec": {
   "display_name": "Python 3",
   "language": "python",
   "name": "python3"
  },
  "language_info": {
   "codemirror_mode": {
    "name": "ipython",
    "version": 3
   },
   "file_extension": ".py",
   "mimetype": "text/x-python",
   "name": "python",
   "nbconvert_exporter": "python",
   "pygments_lexer": "ipython3",
   "version": "3.7.12"
  },
  "papermill": {
   "default_parameters": {},
   "duration": 68.386504,
   "end_time": "2023-04-30T12:28:21.264028",
   "environment_variables": {},
   "exception": null,
   "input_path": "__notebook__.ipynb",
   "output_path": "__notebook__.ipynb",
   "parameters": {},
   "start_time": "2023-04-30T12:27:12.877524",
   "version": "2.4.0"
  }
 },
 "nbformat": 4,
 "nbformat_minor": 5
}
